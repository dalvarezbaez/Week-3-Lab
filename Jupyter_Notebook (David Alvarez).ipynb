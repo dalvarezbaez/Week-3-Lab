{
 "cells": [
  {
   "cell_type": "markdown",
   "metadata": {},
   "source": [
    "<center>\n",
    "    <img src=\"https://cf-courses-data.s3.us.cloud-object-storage.appdomain.cloud/IBMDeveloperSkillsNetwork-DS0105EN-SkillsNetwork/labs/Module2/images/SN_web_lightmode.png\" width=\"300\" alt=\"cognitiveclass.ai logo\"  />\n",
    "</center>\n"
   ]
  },
  {
   "cell_type": "markdown",
   "metadata": {},
   "source": [
    "#### Add your code below following the instructions given in the course\n"
   ]
  },
  {
   "cell_type": "markdown",
   "metadata": {},
   "source": [
    "<h1>My Jupyter Notebook on IBM Watson Studio</h1>"
   ]
  },
  {
   "cell_type": "markdown",
   "metadata": {},
   "source": [
    "<strong>David Álvarez</strong>"
   ]
  },
  {
   "cell_type": "markdown",
   "metadata": {},
   "source": [
    "Project Controls Specialist (Data Science Driven)"
   ]
  },
  {
   "cell_type": "markdown",
   "metadata": {},
   "source": [
    "<em>I work in the construction industry and my aim to revolutionize my field with the use of Data Science</em>"
   ]
  },
  {
   "cell_type": "markdown",
   "metadata": {},
   "source": [
    "<h3>This code checks whether Alex is a common friend between Joe and May</h3>"
   ]
  },
  {
   "cell_type": "code",
   "execution_count": 5,
   "metadata": {},
   "outputs": [
    {
     "name": "stdout",
     "output_type": "stream",
     "text": [
      "Alex is a common friend:True\n"
     ]
    }
   ],
   "source": [
    "def is_common_friend(user, friends_a, friends_b):\n",
    "    is_friend_a = friends_a.count(user) >= 1\n",
    "    is_friend_b = friends_b.count(user) >= 1\n",
    "    is_common = is_friend_a & is_friend_b\n",
    "    return is_common\n",
    "\n",
    "friends_joe = [\"Sam\", \"Alex\", \"Zoe\"]\n",
    "friends_may = [\"Kim\", \"Alex\", \"Cy\", \"Ted\"]\n",
    "common_alex = is_common_friend(\"Alex\", friends_joe, friends_may)\n",
    "print(f\"Alex is a common friend:{common_alex}\")"
   ]
  },
  {
   "cell_type": "markdown",
   "metadata": {},
   "source": [
    "<!doctype html>\n",
    " <html>\n",
    "    <head>\n",
    "        <h1>Resume</h1>\n",
    "    </head>\n",
    "    <body>\n",
    "        <h3>David Alvarez Baez</h3>\n",
    "        <div>\n",
    "            <h4>Relevant Experience</h4>\n",
    "            <ol>\n",
    "                <li>Los Bronces's Ore Pipeline</li>\n",
    "                <ul>\n",
    "                    <li>Preparation of project's construction schedules</li>\n",
    "                    <li>Preparation of dashboards on Power BI</li>\n",
    "                    <li>Review of contractor's schedules</li>\n",
    "                </ul>\n",
    "                <li>Los Bronces's Stay in Business Projects</li>\n",
    "                <ul>\n",
    "                    <li>Preparation of project's construction schedules</li>\n",
    "                    <li>Cost control for several projects</li>\n",
    "                </ul>\n",
    "                </div>\n",
    "        <div>\n",
    "            <h4>Education</h4>\n",
    "            <li>Mechanical Engineering</li>\n",
    "            </div>\n",
    "        <div>\n",
    "            <h4>Certifications</h4>\n",
    "                <ul>\n",
    "                    <li>PMI Scheduling Professional</li>\n",
    "                    <li>IELTS level 8</li>\n",
    "                </ul>\n",
    "            </div>\n",
    "        <div>\n",
    "            <a href=\"https://www.linkedin.com/in/dalvarezbaez/\">Linkedin profile website</a>\n",
    "            "
   ]
  },
  {
   "cell_type": "code",
   "execution_count": null,
   "metadata": {},
   "outputs": [],
   "source": []
  }
 ],
 "metadata": {
  "kernelspec": {
   "display_name": "Python",
   "language": "python",
   "name": "conda-env-python-py"
  },
  "language_info": {
   "codemirror_mode": {
    "name": "ipython",
    "version": 3
   },
   "file_extension": ".py",
   "mimetype": "text/x-python",
   "name": "python",
   "nbconvert_exporter": "python",
   "pygments_lexer": "ipython3",
   "version": "3.7.12"
  }
 },
 "nbformat": 4,
 "nbformat_minor": 4
}
